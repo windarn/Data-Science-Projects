{
 "cells": [
  {
   "cell_type": "markdown",
   "id": "858b8995",
   "metadata": {},
   "source": [
    "# El método de K-means"
   ]
  },
  {
   "cell_type": "code",
   "execution_count": 1,
   "id": "edd5b3fe",
   "metadata": {},
   "outputs": [],
   "source": [
    "import numpy as np"
   ]
  },
  {
   "cell_type": "code",
   "execution_count": 2,
   "id": "f075ac90",
   "metadata": {},
   "outputs": [
    {
     "data": {
      "text/plain": [
       "array([[0.09257951, 0.14709189, 0.50210785],\n",
       "       [0.154641  , 0.69573836, 0.69277781],\n",
       "       [0.71185078, 0.73098615, 0.4116659 ],\n",
       "       [0.74267672, 0.7474862 , 0.45740817],\n",
       "       [0.59011774, 0.76883696, 0.68812785],\n",
       "       [0.5766859 , 0.64346692, 0.01385741],\n",
       "       [0.87584821, 0.64290416, 0.34322297],\n",
       "       [0.66927525, 0.02705339, 0.21765294],\n",
       "       [0.48333195, 0.11324897, 0.02619194],\n",
       "       [0.30788944, 0.47497284, 0.20368814],\n",
       "       [0.1482226 , 0.68847245, 0.43275044],\n",
       "       [0.24517319, 0.25619579, 0.89613001],\n",
       "       [0.43614727, 0.5505621 , 0.7661647 ],\n",
       "       [0.5039479 , 0.93866271, 0.63020447],\n",
       "       [0.7025978 , 0.82198222, 0.01404713],\n",
       "       [0.97034719, 0.63411264, 0.21929821],\n",
       "       [0.53332844, 0.91034866, 0.62059251],\n",
       "       [0.80181505, 0.88376836, 0.41975077],\n",
       "       [0.79666978, 0.03715232, 0.50790056],\n",
       "       [0.44504055, 0.02791319, 0.94047367],\n",
       "       [0.22960612, 0.16134287, 0.81980823],\n",
       "       [0.76838829, 0.46803908, 0.10060925],\n",
       "       [0.36761877, 0.30908414, 0.45456844],\n",
       "       [0.36276616, 0.46401788, 0.80654157],\n",
       "       [0.84794782, 0.32699112, 0.0482456 ],\n",
       "       [0.95954963, 0.38040209, 0.80791445],\n",
       "       [0.21431872, 0.25816535, 0.43396336],\n",
       "       [0.77209993, 0.99869469, 0.30380704],\n",
       "       [0.74672702, 0.20539547, 0.51684185],\n",
       "       [0.13330071, 0.36151831, 0.20846285]])"
      ]
     },
     "execution_count": 2,
     "metadata": {},
     "output_type": "execute_result"
    }
   ],
   "source": [
    "data = np.random.random(90).reshape(30,3)\n",
    "data"
   ]
  },
  {
   "cell_type": "code",
   "execution_count": 3,
   "id": "73e0e5cd",
   "metadata": {},
   "outputs": [
    {
     "data": {
      "text/plain": [
       "array([[0.1482226 , 0.68847245, 0.43275044],\n",
       "       [0.66927525, 0.02705339, 0.21765294]])"
      ]
     },
     "execution_count": 3,
     "metadata": {},
     "output_type": "execute_result"
    }
   ],
   "source": [
    "c1 = np.random.choice(range(len(data)))\n",
    "c2 = np.random.choice(range(len(data)))\n",
    "clust_centers = np.vstack([data[c1], data[c2]])\n",
    "clust_centers"
   ]
  },
  {
   "cell_type": "code",
   "execution_count": 4,
   "id": "6c525953",
   "metadata": {},
   "outputs": [],
   "source": [
    "from scipy.cluster.vq import vq"
   ]
  },
  {
   "cell_type": "code",
   "execution_count": 5,
   "id": "a8526cce",
   "metadata": {},
   "outputs": [
    {
     "data": {
      "text/plain": [
       "(array([0, 0, 0, 0, 0, 0, 1, 1, 1, 0, 0, 0, 0, 0, 0, 1, 0, 0, 1, 1, 0, 1,\n",
       "        0, 0, 1, 1, 0, 0, 1, 0]),\n",
       " array([0.54863423, 0.26020803, 0.5656224 , 0.59788488, 0.51666952,\n",
       "        0.60089738, 0.66159837, 0.        , 0.28046729, 0.35148986,\n",
       "        0.        , 0.64107968, 0.46161125, 0.47762302, 0.70743847,\n",
       "        0.67761933, 0.48251446, 0.68227016, 0.31713568, 0.75680364,\n",
       "        0.65901639, 0.46689506, 0.43880086, 0.48593066, 0.38805331,\n",
       "        0.74667475, 0.43535545, 0.7085811 , 0.35681743, 0.3967702 ]))"
      ]
     },
     "execution_count": 5,
     "metadata": {},
     "output_type": "execute_result"
    }
   ],
   "source": [
    "clusters = vq(data, clust_centers)\n",
    "clusters"
   ]
  },
  {
   "cell_type": "code",
   "execution_count": 6,
   "id": "9985cef0",
   "metadata": {},
   "outputs": [],
   "source": [
    "from scipy.cluster.vq import kmeans"
   ]
  },
  {
   "cell_type": "code",
   "execution_count": 7,
   "id": "472ea95f",
   "metadata": {},
   "outputs": [
    {
     "data": {
      "text/plain": [
       "(array([[0.43136919, 0.59056974, 0.48882123],\n",
       "        [0.75631257, 0.28632124, 0.37283515]]),\n",
       " 0.4082980263214259)"
      ]
     },
     "execution_count": 7,
     "metadata": {},
     "output_type": "execute_result"
    }
   ],
   "source": [
    "kmeans(data, clust_centers)"
   ]
  },
  {
   "cell_type": "code",
   "execution_count": 8,
   "id": "70d33329",
   "metadata": {},
   "outputs": [
    {
     "data": {
      "text/plain": [
       "(array([[0.36458175, 0.29862033, 0.52662652],\n",
       "        [0.7398001 , 0.70690585, 0.36276798]]),\n",
       " 0.35449485723935165)"
      ]
     },
     "execution_count": 8,
     "metadata": {},
     "output_type": "execute_result"
    }
   ],
   "source": [
    "kmeans(data, 2)"
   ]
  },
  {
   "cell_type": "code",
   "execution_count": null,
   "id": "a8519ae0",
   "metadata": {},
   "outputs": [],
   "source": []
  }
 ],
 "metadata": {
  "kernelspec": {
   "display_name": "Python 3",
   "language": "python",
   "name": "python3"
  },
  "language_info": {
   "codemirror_mode": {
    "name": "ipython",
    "version": 3
   },
   "file_extension": ".py",
   "mimetype": "text/x-python",
   "name": "python",
   "nbconvert_exporter": "python",
   "pygments_lexer": "ipython3",
   "version": "3.8.8"
  }
 },
 "nbformat": 4,
 "nbformat_minor": 5
}
