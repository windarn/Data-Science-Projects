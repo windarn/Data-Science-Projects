{
 "cells": [
  {
   "cell_type": "markdown",
   "id": "039fba7f",
   "metadata": {},
   "source": [
    "# Dividir el dataset en conjunto de training y de testing"
   ]
  },
  {
   "cell_type": "code",
   "execution_count": 1,
   "id": "bc07798c",
   "metadata": {},
   "outputs": [],
   "source": [
    "import pandas as pd\n",
    "import numpy as np\n",
    "import matplotlib.pyplot as plt"
   ]
  },
  {
   "cell_type": "code",
   "execution_count": 2,
   "id": "5fa6b0c8",
   "metadata": {},
   "outputs": [],
   "source": [
    "mainpath = \"C:/Users/dguai/Documents/Courses/Machine Learning Data Science en Python/Practicas/Repositorios/Datasets\"\n",
    "data = pd.read_csv(mainpath + \"/\" + \"Ads/Advertising.csv\")"
   ]
  },
  {
   "cell_type": "code",
   "execution_count": 3,
   "id": "c0a767f6",
   "metadata": {},
   "outputs": [],
   "source": [
    "a = np.random.randn(len(data))"
   ]
  },
  {
   "cell_type": "code",
   "execution_count": 4,
   "id": "a2930ea3",
   "metadata": {},
   "outputs": [
    {
     "data": {
      "text/plain": [
       "(array([ 2., 10., 21., 28., 42., 34., 30., 17.,  9.,  7.]),\n",
       " array([-2.20769152, -1.73895645, -1.27022138, -0.80148631, -0.33275125,\n",
       "         0.13598382,  0.60471889,  1.07345396,  1.54218902,  2.01092409,\n",
       "         2.47965916]),\n",
       " <BarContainer object of 10 artists>)"
      ]
     },
     "execution_count": 4,
     "metadata": {},
     "output_type": "execute_result"
    },
    {
     "data": {
      "image/png": "[encoded data removed]",
      "text/plain": [
       "<Figure size 432x288 with 1 Axes>"
      ]
     },
     "metadata": {
      "needs_background": "light"
     },
     "output_type": "display_data"
    }
   ],
   "source": [
    "plt.hist(a)"
   ]
  },
  {
   "cell_type": "code",
   "execution_count": 5,
   "id": "2ca2629a",
   "metadata": {},
   "outputs": [],
   "source": [
    "check = (a < 0.8)\n",
    "training = data[check]\n",
    "testing = data[~check]"
   ]
  },
  {
   "cell_type": "code",
   "execution_count": 6,
   "id": "96868aea",
   "metadata": {},
   "outputs": [
    {
     "data": {
      "text/plain": [
       "(149, 51)"
      ]
     },
     "execution_count": 6,
     "metadata": {},
     "output_type": "execute_result"
    }
   ],
   "source": [
    "len(training),len(testing)"
   ]
  },
  {
   "cell_type": "code",
   "execution_count": 7,
   "id": "260f00d6",
   "metadata": {},
   "outputs": [],
   "source": [
    "import statsmodels.formula.api as smf\n",
    "lm = smf.ols(formula = \"Sales~TV+Radio\", data = training).fit()"
   ]
  },
  {
   "cell_type": "code",
   "execution_count": 8,
   "id": "5e41570c",
   "metadata": {},
   "outputs": [
    {
     "data": {
      "text/html": [
       "<table class=\"simpletable\">\n",
       "<caption>OLS Regression Results</caption>\n",
       "<tr>\n",
       "  <th>Dep. Variable:</th>          <td>Sales</td>      <th>  R-squared:         </th> <td>   0.903</td>\n",
       "</tr>\n",
       "<tr>\n",
       "  <th>Model:</th>                   <td>OLS</td>       <th>  Adj. R-squared:    </th> <td>   0.902</td>\n",
       "</tr>\n",
       "<tr>\n",
       "  <th>Method:</th>             <td>Least Squares</td>  <th>  F-statistic:       </th> <td>   683.3</td>\n",
       "</tr>\n",
       "<tr>\n",
       "  <th>Date:</th>             <td>Fri, 01 Oct 2021</td> <th>  Prob (F-statistic):</th> <td>7.54e-75</td>\n",
       "</tr>\n",
       "<tr>\n",
       "  <th>Time:</th>                 <td>20:00:52</td>     <th>  Log-Likelihood:    </th> <td> -282.63</td>\n",
       "</tr>\n",
       "<tr>\n",
       "  <th>No. Observations:</th>      <td>   149</td>      <th>  AIC:               </th> <td>   571.3</td>\n",
       "</tr>\n",
       "<tr>\n",
       "  <th>Df Residuals:</th>          <td>   146</td>      <th>  BIC:               </th> <td>   580.3</td>\n",
       "</tr>\n",
       "<tr>\n",
       "  <th>Df Model:</th>              <td>     2</td>      <th>                     </th>     <td> </td>   \n",
       "</tr>\n",
       "<tr>\n",
       "  <th>Covariance Type:</th>      <td>nonrobust</td>    <th>                     </th>     <td> </td>   \n",
       "</tr>\n",
       "</table>\n",
       "<table class=\"simpletable\">\n",
       "<tr>\n",
       "      <td></td>         <th>coef</th>     <th>std err</th>      <th>t</th>      <th>P>|t|</th>  <th>[0.025</th>    <th>0.975]</th>  \n",
       "</tr>\n",
       "<tr>\n",
       "  <th>Intercept</th> <td>    2.9892</td> <td>    0.325</td> <td>    9.208</td> <td> 0.000</td> <td>    2.348</td> <td>    3.631</td>\n",
       "</tr>\n",
       "<tr>\n",
       "  <th>TV</th>        <td>    0.0466</td> <td>    0.002</td> <td>   29.540</td> <td> 0.000</td> <td>    0.043</td> <td>    0.050</td>\n",
       "</tr>\n",
       "<tr>\n",
       "  <th>Radio</th>     <td>    0.1806</td> <td>    0.009</td> <td>   19.435</td> <td> 0.000</td> <td>    0.162</td> <td>    0.199</td>\n",
       "</tr>\n",
       "</table>\n",
       "<table class=\"simpletable\">\n",
       "<tr>\n",
       "  <th>Omnibus:</th>       <td>56.347</td> <th>  Durbin-Watson:     </th> <td>   1.957</td>\n",
       "</tr>\n",
       "<tr>\n",
       "  <th>Prob(Omnibus):</th> <td> 0.000</td> <th>  Jarque-Bera (JB):  </th> <td> 172.436</td>\n",
       "</tr>\n",
       "<tr>\n",
       "  <th>Skew:</th>          <td>-1.468</td> <th>  Prob(JB):          </th> <td>3.60e-38</td>\n",
       "</tr>\n",
       "<tr>\n",
       "  <th>Kurtosis:</th>      <td> 7.377</td> <th>  Cond. No.          </th> <td>    406.</td>\n",
       "</tr>\n",
       "</table><br/><br/>Notes:<br/>[1] Standard Errors assume that the covariance matrix of the errors is correctly specified."
      ],
      "text/plain": [
       "<class 'statsmodels.iolib.summary.Summary'>\n",
       "\"\"\"\n",
       "                            OLS Regression Results                            \n",
       "==============================================================================\n",
       "Dep. Variable:                  Sales   R-squared:                       0.903\n",
       "Model:                            OLS   Adj. R-squared:                  0.902\n",
       "Method:                 Least Squares   F-statistic:                     683.3\n",
       "Date:                Fri, 01 Oct 2021   Prob (F-statistic):           7.54e-75\n",
       "Time:                        20:00:52   Log-Likelihood:                -282.63\n",
       "No. Observations:                 149   AIC:                             571.3\n",
       "Df Residuals:                     146   BIC:                             580.3\n",
       "Df Model:                           2                                         \n",
       "Covariance Type:            nonrobust                                         \n",
       "==============================================================================\n",
       "                 coef    std err          t      P>|t|      [0.025      0.975]\n",
       "------------------------------------------------------------------------------\n",
       "Intercept      2.9892      0.325      9.208      0.000       2.348       3.631\n",
       "TV             0.0466      0.002     29.540      0.000       0.043       0.050\n",
       "Radio          0.1806      0.009     19.435      0.000       0.162       0.199\n",
       "==============================================================================\n",
       "Omnibus:                       56.347   Durbin-Watson:                   1.957\n",
       "Prob(Omnibus):                  0.000   Jarque-Bera (JB):              172.436\n",
       "Skew:                          -1.468   Prob(JB):                     3.60e-38\n",
       "Kurtosis:                       7.377   Cond. No.                         406.\n",
       "==============================================================================\n",
       "\n",
       "Notes:\n",
       "[1] Standard Errors assume that the covariance matrix of the errors is correctly specified.\n",
       "\"\"\""
      ]
     },
     "execution_count": 8,
     "metadata": {},
     "output_type": "execute_result"
    }
   ],
   "source": [
    "lm.summary()"
   ]
  },
  {
   "cell_type": "markdown",
   "id": "d3a5d727",
   "metadata": {},
   "source": [
    "Sales = 2.9892 + 0.0466 * TV + 0.1806 * Radio"
   ]
  },
  {
   "cell_type": "markdown",
   "id": "a9abd35d",
   "metadata": {},
   "source": [
    "### Validación del modelo con el conjunto de testing "
   ]
  },
  {
   "cell_type": "code",
   "execution_count": 9,
   "id": "4088c5a7",
   "metadata": {},
   "outputs": [
    {
     "data": {
      "text/plain": [
       "5      12.224861\n",
       "6      11.589883\n",
       "8       3.768879\n",
       "10      7.114586\n",
       "16     12.755732\n",
       "17     23.243988\n",
       "27     17.185440\n",
       "28     19.468637\n",
       "29      9.166089\n",
       "34      7.698371\n",
       "35     17.266324\n",
       "39     20.414252\n",
       "40     16.445827\n",
       "51      9.398019\n",
       "52     20.596422\n",
       "54     20.422897\n",
       "64     16.822982\n",
       "66      8.898378\n",
       "70     17.786348\n",
       "73     10.044157\n",
       "77     13.747032\n",
       "81     14.896113\n",
       "87     15.475750\n",
       "88     11.705854\n",
       "90     10.127864\n",
       "93     21.263914\n",
       "96     12.822676\n",
       "102    17.860884\n",
       "117     6.691296\n",
       "118    15.506080\n",
       "120    14.408613\n",
       "122    13.853377\n",
       "126    10.377113\n",
       "128    22.096292\n",
       "137    20.953182\n",
       "141    18.401695\n",
       "146    15.487951\n",
       "147    23.162654\n",
       "148    12.036225\n",
       "150    18.570386\n",
       "161    13.444797\n",
       "162    15.030793\n",
       "163    17.248218\n",
       "165    14.522904\n",
       "174    13.959455\n",
       "181    14.139015\n",
       "183    24.146683\n",
       "185    20.679555\n",
       "190    12.250541\n",
       "191     8.455226\n",
       "196     8.260566\n",
       "dtype: float64"
      ]
     },
     "execution_count": 9,
     "metadata": {},
     "output_type": "execute_result"
    }
   ],
   "source": [
    "sales_pred = lm.predict(testing)\n",
    "sales_pred"
   ]
  },
  {
   "cell_type": "code",
   "execution_count": 10,
   "id": "d93e904f",
   "metadata": {},
   "outputs": [
    {
     "data": {
      "text/plain": [
       "172.6624384221997"
      ]
     },
     "execution_count": 10,
     "metadata": {},
     "output_type": "execute_result"
    }
   ],
   "source": [
    "SSD = sum((testing[\"Sales\"]-sales_pred)**2)\n",
    "SSD"
   ]
  },
  {
   "cell_type": "code",
   "execution_count": 11,
   "id": "c7cdd21b",
   "metadata": {},
   "outputs": [
    {
     "data": {
      "text/plain": [
       "1.8966112236818138"
      ]
     },
     "execution_count": 11,
     "metadata": {},
     "output_type": "execute_result"
    }
   ],
   "source": [
    "RSE = np.sqrt(SSD/(len(testing)-2-1))\n",
    "RSE"
   ]
  },
  {
   "cell_type": "code",
   "execution_count": 13,
   "id": "5dc77ca7",
   "metadata": {},
   "outputs": [
    {
     "data": {
      "text/plain": [
       "0.12881498522808962"
      ]
     },
     "execution_count": 13,
     "metadata": {},
     "output_type": "execute_result"
    }
   ],
   "source": [
    "sales_m = np.mean(testing[\"Sales\"])\n",
    "error = RSE/sales_m\n",
    "error"
   ]
  },
  {
   "cell_type": "code",
   "execution_count": null,
   "id": "3518e991",
   "metadata": {},
   "outputs": [],
   "source": []
  }
 ],
 "metadata": {
  "kernelspec": {
   "display_name": "Python 3",
   "language": "python",
   "name": "python3"
  },
  "language_info": {
   "codemirror_mode": {
    "name": "ipython",
    "version": 3
   },
   "file_extension": ".py",
   "mimetype": "text/x-python",
   "name": "python",
   "nbconvert_exporter": "python",
   "pygments_lexer": "ipython3",
   "version": "3.8.8"
  }
 },
 "nbformat": 4,
 "nbformat_minor": 5
}
