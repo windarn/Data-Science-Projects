{
 "cells": [
  {
   "cell_type": "markdown",
   "id": "c89837c8",
   "metadata": {},
   "source": [
    "# Modelos de regresión Lineal"
   ]
  },
  {
   "cell_type": "markdown",
   "id": "e1e14fb2",
   "metadata": {},
   "source": [
    "## Modelo con datos simulados"
   ]
  },
  {
   "cell_type": "markdown",
   "id": "bacaef93",
   "metadata": {},
   "source": [
    "* y = a + (b * x)\n",
    "* X : 100 valores distribuidos según una N(1.5, 2.5)\n",
    "* Ye = 5 + (1.9 * x)\n",
    "* e estara distribuido según una N(0, 0.8)"
   ]
  },
  {
   "cell_type": "code",
   "execution_count": 1,
   "id": "e0ef9e9c",
   "metadata": {},
   "outputs": [],
   "source": [
    "import pandas as pd\n",
    "import numpy as np"
   ]
  },
  {
   "cell_type": "code",
   "execution_count": 2,
   "id": "228e6c25",
   "metadata": {},
   "outputs": [],
   "source": [
    "x = 1.5 + 2.5 * np.random.randn(100)"
   ]
  },
  {
   "cell_type": "code",
   "execution_count": 3,
   "id": "1326782a",
   "metadata": {},
   "outputs": [],
   "source": [
    "res = 0 + 0.8 * np.random.randn(100)"
   ]
  },
  {
   "cell_type": "code",
   "execution_count": 4,
   "id": "70def49b",
   "metadata": {},
   "outputs": [],
   "source": [
    "y_pred = 5 + 1.9 * x"
   ]
  },
  {
   "cell_type": "code",
   "execution_count": 5,
   "id": "8953061c",
   "metadata": {},
   "outputs": [],
   "source": [
    "y_act = 5 + 1.9 * x + res"
   ]
  },
  {
   "cell_type": "code",
   "execution_count": 8,
   "id": "6f59c7d3",
   "metadata": {},
   "outputs": [],
   "source": [
    "x_list = x.tolist()\n",
    "y_pred_list = y_pred.tolist()\n",
    "y_act_list = y_act.tolist()"
   ]
  },
  {
   "cell_type": "code",
   "execution_count": 9,
   "id": "8e5c7df8",
   "metadata": {},
   "outputs": [],
   "source": [
    "data = pd.DataFrame(\n",
    "    {\n",
    "        \"x\": x_list,\n",
    "        \"y_actual\": y_act_list,\n",
    "        \"y_prediccion\": y_pred_list\n",
    "    }\n",
    ")"
   ]
  },
  {
   "cell_type": "code",
   "execution_count": 10,
   "id": "e738eb0c",
   "metadata": {},
   "outputs": [
    {
     "data": {
      "text/html": [
       "<div>\n",
       "<style scoped>\n",
       "    .dataframe tbody tr th:only-of-type {\n",
       "        vertical-align: middle;\n",
       "    }\n",
       "\n",
       "    .dataframe tbody tr th {\n",
       "        vertical-align: top;\n",
       "    }\n",
       "\n",
       "    .dataframe thead th {\n",
       "        text-align: right;\n",
       "    }\n",
       "</style>\n",
       "<table border=\"1\" class=\"dataframe\">\n",
       "  <thead>\n",
       "    <tr style=\"text-align: right;\">\n",
       "      <th></th>\n",
       "      <th>x</th>\n",
       "      <th>y_actual</th>\n",
       "      <th>y_prediccion</th>\n",
       "    </tr>\n",
       "  </thead>\n",
       "  <tbody>\n",
       "    <tr>\n",
       "      <th>0</th>\n",
       "      <td>6.886312</td>\n",
       "      <td>18.543588</td>\n",
       "      <td>18.083993</td>\n",
       "    </tr>\n",
       "    <tr>\n",
       "      <th>1</th>\n",
       "      <td>-0.059555</td>\n",
       "      <td>4.789188</td>\n",
       "      <td>4.886846</td>\n",
       "    </tr>\n",
       "    <tr>\n",
       "      <th>2</th>\n",
       "      <td>2.117465</td>\n",
       "      <td>10.253985</td>\n",
       "      <td>9.023184</td>\n",
       "    </tr>\n",
       "    <tr>\n",
       "      <th>3</th>\n",
       "      <td>-1.379773</td>\n",
       "      <td>4.508638</td>\n",
       "      <td>2.378432</td>\n",
       "    </tr>\n",
       "    <tr>\n",
       "      <th>4</th>\n",
       "      <td>0.987940</td>\n",
       "      <td>5.725461</td>\n",
       "      <td>6.877085</td>\n",
       "    </tr>\n",
       "  </tbody>\n",
       "</table>\n",
       "</div>"
      ],
      "text/plain": [
       "          x   y_actual  y_prediccion\n",
       "0  6.886312  18.543588     18.083993\n",
       "1 -0.059555   4.789188      4.886846\n",
       "2  2.117465  10.253985      9.023184\n",
       "3 -1.379773   4.508638      2.378432\n",
       "4  0.987940   5.725461      6.877085"
      ]
     },
     "execution_count": 10,
     "metadata": {},
     "output_type": "execute_result"
    }
   ],
   "source": [
    "data.head()"
   ]
  },
  {
   "cell_type": "code",
   "execution_count": 11,
   "id": "03f5fde6",
   "metadata": {},
   "outputs": [],
   "source": [
    "import matplotlib.pyplot as plt"
   ]
  },
  {
   "cell_type": "code",
   "execution_count": 14,
   "id": "4678a6e7",
   "metadata": {},
   "outputs": [],
   "source": [
    "y_mean = [np.mean(y_act) for i in range(1, len(x_list) + 1)]"
   ]
  },
  {
   "cell_type": "code",
   "execution_count": 12,
   "id": "268b05c5",
   "metadata": {},
   "outputs": [],
   "source": [
    "%matplotlib inline"
   ]
  },
  {
   "cell_type": "code",
   "execution_count": 15,
   "id": "1604bb78",
   "metadata": {},
   "outputs": [
    {
     "data": {
      "text/plain": [
       "Text(0.5, 1.0, 'Valuar actual vs valor predecido')"
      ]
     },
     "execution_count": 15,
     "metadata": {},
     "output_type": "execute_result"
    },
    {
     "data": {
      "image/png": "[encoded data removed]",
      "text/plain": [
       "<Figure size 432x288 with 1 Axes>"
      ]
     },
     "metadata": {
      "needs_background": "light"
     },
     "output_type": "display_data"
    }
   ],
   "source": [
    "plt.plot(x, y_pred)\n",
    "plt.plot(x, y_act,\"ro\")\n",
    "plt.plot(x, y_mean)\n",
    "plt.title(\"Valuar actual vs valor predecido\")"
   ]
  },
  {
   "cell_type": "code",
   "execution_count": 16,
   "id": "c17f3319",
   "metadata": {},
   "outputs": [],
   "source": [
    "data[\"SSR\"] = (data[\"y_prediccion\"] - np.mean(y_act))**2\n",
    "data[\"SSD\"] = (data[\"y_prediccion\"] - data[\"y_actual\"])**2 \n",
    "data[\"SST\"] = (data[\"y_actual\"] -np.mean(y_act))**2"
   ]
  },
  {
   "cell_type": "code",
   "execution_count": 17,
   "id": "e4b750f8",
   "metadata": {},
   "outputs": [
    {
     "data": {
      "text/html": [
       "<div>\n",
       "<style scoped>\n",
       "    .dataframe tbody tr th:only-of-type {\n",
       "        vertical-align: middle;\n",
       "    }\n",
       "\n",
       "    .dataframe tbody tr th {\n",
       "        vertical-align: top;\n",
       "    }\n",
       "\n",
       "    .dataframe thead th {\n",
       "        text-align: right;\n",
       "    }\n",
       "</style>\n",
       "<table border=\"1\" class=\"dataframe\">\n",
       "  <thead>\n",
       "    <tr style=\"text-align: right;\">\n",
       "      <th></th>\n",
       "      <th>x</th>\n",
       "      <th>y_actual</th>\n",
       "      <th>y_prediccion</th>\n",
       "      <th>SSR</th>\n",
       "      <th>SSD</th>\n",
       "      <th>SST</th>\n",
       "    </tr>\n",
       "  </thead>\n",
       "  <tbody>\n",
       "    <tr>\n",
       "      <th>0</th>\n",
       "      <td>6.886312</td>\n",
       "      <td>18.543588</td>\n",
       "      <td>18.083993</td>\n",
       "      <td>107.920321</td>\n",
       "      <td>0.211227</td>\n",
       "      <td>117.680520</td>\n",
       "    </tr>\n",
       "    <tr>\n",
       "      <th>1</th>\n",
       "      <td>-0.059555</td>\n",
       "      <td>4.789188</td>\n",
       "      <td>4.886846</td>\n",
       "      <td>7.888665</td>\n",
       "      <td>0.009537</td>\n",
       "      <td>8.446779</td>\n",
       "    </tr>\n",
       "    <tr>\n",
       "      <th>2</th>\n",
       "      <td>2.117465</td>\n",
       "      <td>10.253985</td>\n",
       "      <td>9.023184</td>\n",
       "      <td>1.762686</td>\n",
       "      <td>1.514870</td>\n",
       "      <td>6.545731</td>\n",
       "    </tr>\n",
       "    <tr>\n",
       "      <th>3</th>\n",
       "      <td>-1.379773</td>\n",
       "      <td>4.508638</td>\n",
       "      <td>2.378432</td>\n",
       "      <td>28.271451</td>\n",
       "      <td>4.537776</td>\n",
       "      <td>10.156235</td>\n",
       "    </tr>\n",
       "    <tr>\n",
       "      <th>4</th>\n",
       "      <td>0.987940</td>\n",
       "      <td>5.725461</td>\n",
       "      <td>6.877085</td>\n",
       "      <td>0.669840</td>\n",
       "      <td>1.326237</td>\n",
       "      <td>3.881141</td>\n",
       "    </tr>\n",
       "  </tbody>\n",
       "</table>\n",
       "</div>"
      ],
      "text/plain": [
       "          x   y_actual  y_prediccion         SSR       SSD         SST\n",
       "0  6.886312  18.543588     18.083993  107.920321  0.211227  117.680520\n",
       "1 -0.059555   4.789188      4.886846    7.888665  0.009537    8.446779\n",
       "2  2.117465  10.253985      9.023184    1.762686  1.514870    6.545731\n",
       "3 -1.379773   4.508638      2.378432   28.271451  4.537776   10.156235\n",
       "4  0.987940   5.725461      6.877085    0.669840  1.326237    3.881141"
      ]
     },
     "execution_count": 17,
     "metadata": {},
     "output_type": "execute_result"
    }
   ],
   "source": [
    "data.head()"
   ]
  },
  {
   "cell_type": "code",
   "execution_count": 18,
   "id": "11b85189",
   "metadata": {},
   "outputs": [],
   "source": [
    "SSR = sum(data[\"SSR\"])\n",
    "SSD = sum(data[\"SSD\"])\n",
    "SST = sum(data[\"SST\"])"
   ]
  },
  {
   "cell_type": "code",
   "execution_count": 19,
   "id": "9f9989b9",
   "metadata": {},
   "outputs": [
    {
     "data": {
      "text/plain": [
       "2781.2741703409165"
      ]
     },
     "execution_count": 19,
     "metadata": {},
     "output_type": "execute_result"
    }
   ],
   "source": [
    "SSR"
   ]
  },
  {
   "cell_type": "code",
   "execution_count": 20,
   "id": "d97d8ba5",
   "metadata": {},
   "outputs": [
    {
     "data": {
      "text/plain": [
       "78.26177736359546"
      ]
     },
     "execution_count": 20,
     "metadata": {},
     "output_type": "execute_result"
    }
   ],
   "source": [
    "SSD"
   ]
  },
  {
   "cell_type": "code",
   "execution_count": 21,
   "id": "80993f7f",
   "metadata": {},
   "outputs": [
    {
     "data": {
      "text/plain": [
       "2859.601234381232"
      ]
     },
     "execution_count": 21,
     "metadata": {},
     "output_type": "execute_result"
    }
   ],
   "source": [
    "SST"
   ]
  },
  {
   "cell_type": "code",
   "execution_count": 22,
   "id": "10f3ce55",
   "metadata": {},
   "outputs": [
    {
     "data": {
      "text/plain": [
       "2859.535947704512"
      ]
     },
     "execution_count": 22,
     "metadata": {},
     "output_type": "execute_result"
    }
   ],
   "source": [
    "SSR + SSD"
   ]
  },
  {
   "cell_type": "code",
   "execution_count": 23,
   "id": "1eb8eb96",
   "metadata": {},
   "outputs": [],
   "source": [
    "R2 = SSR/SST"
   ]
  },
  {
   "cell_type": "code",
   "execution_count": 25,
   "id": "eba70a14",
   "metadata": {},
   "outputs": [
    {
     "data": {
      "text/plain": [
       "0.9726090955974621"
      ]
     },
     "execution_count": 25,
     "metadata": {},
     "output_type": "execute_result"
    }
   ],
   "source": [
    "R2"
   ]
  },
  {
   "cell_type": "code",
   "execution_count": 27,
   "id": "2ac8de68",
   "metadata": {},
   "outputs": [
    {
     "data": {
      "text/plain": [
       "(array([ 2.,  2., 13., 13., 14., 10., 22., 13.,  7.,  4.]),\n",
       " array([-2.1302056 , -1.73237984, -1.33455408, -0.93672832, -0.53890257,\n",
       "        -0.14107681,  0.25674895,  0.65457471,  1.05240046,  1.45022622,\n",
       "         1.84805198]),\n",
       " <BarContainer object of 10 artists>)"
      ]
     },
     "execution_count": 27,
     "metadata": {},
     "output_type": "execute_result"
    },
    {
     "data": {
      "image/png": "[encoded data removed]",
      "text/plain": [
       "<Figure size 432x288 with 1 Axes>"
      ]
     },
     "metadata": {
      "needs_background": "light"
     },
     "output_type": "display_data"
    }
   ],
   "source": [
    "plt.hist(data[\"y_prediccion\"] - data[\"y_actual\"])"
   ]
  },
  {
   "cell_type": "markdown",
   "id": "b667271c",
   "metadata": {},
   "source": [
    "## Obteniendo la recta de la regresión"
   ]
  },
  {
   "cell_type": "markdown",
   "id": "c7129348",
   "metadata": {},
   "source": [
    "* y = a + b * x\n",
    "* b = sum((xi * x_m) * (yi-y_m)) / sum(xi-x_m)**2\n",
    "* a = y_m - b * x_m"
   ]
  },
  {
   "cell_type": "code",
   "execution_count": 28,
   "id": "bfff0e51",
   "metadata": {},
   "outputs": [
    {
     "data": {
      "text/plain": [
       "(1.4291536790483637, 7.695522397079103)"
      ]
     },
     "execution_count": 28,
     "metadata": {},
     "output_type": "execute_result"
    }
   ],
   "source": [
    "x_mean = np.mean(data[\"x\"])\n",
    "y_mean = np.mean(data[\"y_actual\"])\n",
    "x_mean, y_mean"
   ]
  },
  {
   "cell_type": "code",
   "execution_count": 29,
   "id": "32045bda",
   "metadata": {},
   "outputs": [],
   "source": [
    "data[\"beta_n\"] = (data[\"x\"] - x_mean)*(data[\"y_actual\"]-y_mean)\n",
    "data[\"beta_d\"] = (data[\"x\"] - x_mean)**2"
   ]
  },
  {
   "cell_type": "code",
   "execution_count": 30,
   "id": "af0dcda5",
   "metadata": {},
   "outputs": [],
   "source": [
    "beta = sum(data[\"beta_n\"])/sum(data[\"beta_d\"])"
   ]
  },
  {
   "cell_type": "code",
   "execution_count": 31,
   "id": "788e8482",
   "metadata": {},
   "outputs": [],
   "source": [
    "alpha = y_mean - beta * x_mean"
   ]
  },
  {
   "cell_type": "code",
   "execution_count": 33,
   "id": "b616328e",
   "metadata": {},
   "outputs": [
    {
     "data": {
      "text/plain": [
       "(4.980059990918965, 1.90004927109609)"
      ]
     },
     "execution_count": 33,
     "metadata": {},
     "output_type": "execute_result"
    }
   ],
   "source": [
    "alpha, beta"
   ]
  },
  {
   "cell_type": "markdown",
   "id": "8889e4cd",
   "metadata": {},
   "source": [
    "El modelo lineal obtenido por regresión es:\n",
    "y = 4.980059990918965 + (1.90004927109609 * x)"
   ]
  },
  {
   "cell_type": "code",
   "execution_count": 34,
   "id": "c4be42ea",
   "metadata": {},
   "outputs": [],
   "source": [
    "data[\"y_model\"] = alpha + beta * data[\"x\"]"
   ]
  },
  {
   "cell_type": "code",
   "execution_count": 35,
   "id": "a0f20b0b",
   "metadata": {},
   "outputs": [
    {
     "data": {
      "text/html": [
       "<div>\n",
       "<style scoped>\n",
       "    .dataframe tbody tr th:only-of-type {\n",
       "        vertical-align: middle;\n",
       "    }\n",
       "\n",
       "    .dataframe tbody tr th {\n",
       "        vertical-align: top;\n",
       "    }\n",
       "\n",
       "    .dataframe thead th {\n",
       "        text-align: right;\n",
       "    }\n",
       "</style>\n",
       "<table border=\"1\" class=\"dataframe\">\n",
       "  <thead>\n",
       "    <tr style=\"text-align: right;\">\n",
       "      <th></th>\n",
       "      <th>x</th>\n",
       "      <th>y_actual</th>\n",
       "      <th>y_prediccion</th>\n",
       "      <th>SSR</th>\n",
       "      <th>SSD</th>\n",
       "      <th>SST</th>\n",
       "      <th>beta_n</th>\n",
       "      <th>beta_d</th>\n",
       "      <th>y_model</th>\n",
       "    </tr>\n",
       "  </thead>\n",
       "  <tbody>\n",
       "    <tr>\n",
       "      <th>0</th>\n",
       "      <td>6.886312</td>\n",
       "      <td>18.543588</td>\n",
       "      <td>18.083993</td>\n",
       "      <td>107.920321</td>\n",
       "      <td>0.211227</td>\n",
       "      <td>117.680520</td>\n",
       "      <td>59.199611</td>\n",
       "      <td>29.780578</td>\n",
       "      <td>18.064392</td>\n",
       "    </tr>\n",
       "    <tr>\n",
       "      <th>1</th>\n",
       "      <td>-0.059555</td>\n",
       "      <td>4.789188</td>\n",
       "      <td>4.886846</td>\n",
       "      <td>7.888665</td>\n",
       "      <td>0.009537</td>\n",
       "      <td>8.446779</td>\n",
       "      <td>4.326685</td>\n",
       "      <td>2.216253</td>\n",
       "      <td>4.866903</td>\n",
       "    </tr>\n",
       "    <tr>\n",
       "      <th>2</th>\n",
       "      <td>2.117465</td>\n",
       "      <td>10.253985</td>\n",
       "      <td>9.023184</td>\n",
       "      <td>1.762686</td>\n",
       "      <td>1.514870</td>\n",
       "      <td>6.545731</td>\n",
       "      <td>1.761020</td>\n",
       "      <td>0.473773</td>\n",
       "      <td>9.003349</td>\n",
       "    </tr>\n",
       "    <tr>\n",
       "      <th>3</th>\n",
       "      <td>-1.379773</td>\n",
       "      <td>4.508638</td>\n",
       "      <td>2.378432</td>\n",
       "      <td>28.271451</td>\n",
       "      <td>4.537776</td>\n",
       "      <td>10.156235</td>\n",
       "      <td>8.951725</td>\n",
       "      <td>7.890067</td>\n",
       "      <td>2.358424</td>\n",
       "    </tr>\n",
       "    <tr>\n",
       "      <th>4</th>\n",
       "      <td>0.987940</td>\n",
       "      <td>5.725461</td>\n",
       "      <td>6.877085</td>\n",
       "      <td>0.669840</td>\n",
       "      <td>1.326237</td>\n",
       "      <td>3.881141</td>\n",
       "      <td>0.869219</td>\n",
       "      <td>0.194670</td>\n",
       "      <td>6.857194</td>\n",
       "    </tr>\n",
       "  </tbody>\n",
       "</table>\n",
       "</div>"
      ],
      "text/plain": [
       "          x   y_actual  y_prediccion         SSR       SSD         SST  \\\n",
       "0  6.886312  18.543588     18.083993  107.920321  0.211227  117.680520   \n",
       "1 -0.059555   4.789188      4.886846    7.888665  0.009537    8.446779   \n",
       "2  2.117465  10.253985      9.023184    1.762686  1.514870    6.545731   \n",
       "3 -1.379773   4.508638      2.378432   28.271451  4.537776   10.156235   \n",
       "4  0.987940   5.725461      6.877085    0.669840  1.326237    3.881141   \n",
       "\n",
       "      beta_n     beta_d    y_model  \n",
       "0  59.199611  29.780578  18.064392  \n",
       "1   4.326685   2.216253   4.866903  \n",
       "2   1.761020   0.473773   9.003349  \n",
       "3   8.951725   7.890067   2.358424  \n",
       "4   0.869219   0.194670   6.857194  "
      ]
     },
     "execution_count": 35,
     "metadata": {},
     "output_type": "execute_result"
    }
   ],
   "source": [
    "data.head()"
   ]
  },
  {
   "cell_type": "code",
   "execution_count": 37,
   "id": "2013cdfd",
   "metadata": {},
   "outputs": [],
   "source": [
    "SSR = sum((data[\"y_model\"] - y_mean)**2)\n",
    "SSD = sum((data[\"y_model\"] - data[\"y_actual\"])**2) \n",
    "SST = sum((data[\"y_actual\"] - y_mean)**2)"
   ]
  },
  {
   "cell_type": "code",
   "execution_count": 38,
   "id": "e3188e80",
   "metadata": {},
   "outputs": [
    {
     "data": {
      "text/plain": [
       "(2781.3789389609983, 78.22229542023315, 2859.601234381232)"
      ]
     },
     "execution_count": 38,
     "metadata": {},
     "output_type": "execute_result"
    }
   ],
   "source": [
    "SSR, SSD, SST"
   ]
  },
  {
   "cell_type": "code",
   "execution_count": 39,
   "id": "63e2834b",
   "metadata": {},
   "outputs": [
    {
     "data": {
      "text/plain": [
       "0.9726457330904181"
      ]
     },
     "execution_count": 39,
     "metadata": {},
     "output_type": "execute_result"
    }
   ],
   "source": [
    "R2 = SSR / SST\n",
    "R2"
   ]
  },
  {
   "cell_type": "code",
   "execution_count": 40,
   "id": "8d6cc88d",
   "metadata": {},
   "outputs": [
    {
     "data": {
      "text/plain": [
       "Text(0.5, 1.0, 'Valuar actual vs valor predecido')"
      ]
     },
     "execution_count": 40,
     "metadata": {},
     "output_type": "execute_result"
    },
    {
     "data": {
      "image/png": "[encoded data removed]",
      "text/plain": [
       "<Figure size 432x288 with 1 Axes>"
      ]
     },
     "metadata": {
      "needs_background": "light"
     },
     "output_type": "display_data"
    }
   ],
   "source": [
    "y_mean = [np.mean(y_act) for i in range(1, len(x_list) + 1)]\n",
    "%matplotlib inline\n",
    "plt.plot(data[\"x\"], data[\"y_prediccion\"])\n",
    "plt.plot(data[\"x\"], data[\"y_actual\"], \"ro\")\n",
    "plt.plot(data[\"x\"], y_mean, \"g\")\n",
    "plt.plot(data[\"x\"], data[\"y_model\"])\n",
    "plt.title(\"Valuar actual vs valor predecido\")"
   ]
  },
  {
   "cell_type": "markdown",
   "id": "2a3940c0",
   "metadata": {},
   "source": [
    "# Error estándar de los residuos (RSE)"
   ]
  },
  {
   "cell_type": "code",
   "execution_count": 43,
   "id": "fcfe9fba",
   "metadata": {},
   "outputs": [],
   "source": [
    "RSE = np.sqrt(SSD/(len(data) - 2))"
   ]
  },
  {
   "cell_type": "code",
   "execution_count": 44,
   "id": "847cba00",
   "metadata": {},
   "outputs": [
    {
     "data": {
      "text/plain": [
       "0.8934129436948867"
      ]
     },
     "execution_count": 44,
     "metadata": {},
     "output_type": "execute_result"
    }
   ],
   "source": [
    "RSE"
   ]
  },
  {
   "cell_type": "code",
   "execution_count": 46,
   "id": "b6eece43",
   "metadata": {},
   "outputs": [
    {
     "data": {
      "text/plain": [
       "7.695522397079103"
      ]
     },
     "execution_count": 46,
     "metadata": {},
     "output_type": "execute_result"
    }
   ],
   "source": [
    "np.mean(data[\"y_actual\"])"
   ]
  },
  {
   "cell_type": "code",
   "execution_count": 47,
   "id": "7b7c1a88",
   "metadata": {},
   "outputs": [
    {
     "data": {
      "text/plain": [
       "0.11609516516175544"
      ]
     },
     "execution_count": 47,
     "metadata": {},
     "output_type": "execute_result"
    }
   ],
   "source": [
    "RSE / np.mean(data[\"y_actual\"])"
   ]
  },
  {
   "cell_type": "code",
   "execution_count": null,
   "id": "c12ac472",
   "metadata": {},
   "outputs": [],
   "source": []
  }
 ],
 "metadata": {
  "kernelspec": {
   "display_name": "Python 3",
   "language": "python",
   "name": "python3"
  },
  "language_info": {
   "codemirror_mode": {
    "name": "ipython",
    "version": 3
   },
   "file_extension": ".py",
   "mimetype": "text/x-python",
   "name": "python",
   "nbconvert_exporter": "python",
   "pygments_lexer": "ipython3",
   "version": "3.8.8"
  }
 },
 "nbformat": 4,
 "nbformat_minor": 5
}
